{
 "cells": [
  {
   "cell_type": "code",
   "execution_count": 6,
   "id": "e928289c",
   "metadata": {},
   "outputs": [],
   "source": [
    "import pandas as pd\n",
    "import numpy as np\n",
    "from utility.util import clean_columns\n",
    "\n",
    "from matplotlib import pyplot as plt\n",
    "from utility.util import plot_gender_fraction_over_time\n",
    "\n",
    "import ipywidgets as widgets\n",
    "from ipywidgets import interact, interactive, fixed, interact_manual\n",
    "\n",
    "import os\n",
    "import string\n",
    "import zipfile\n",
    "import shutil\n",
    "\n",
    "from vaderSentiment.vaderSentiment import SentimentIntensityAnalyzer\n",
    "\n",
    "from IPython.display import clear_output\n",
    "\n",
    "from ipywidgets import IntSlider, Output\n",
    "from IPython.display import display"
   ]
  },
  {
   "cell_type": "code",
   "execution_count": 7,
   "id": "5461c124",
   "metadata": {},
   "outputs": [],
   "source": [
    "qR = pd.read_csv(\"./utility/data/Lab 1 Quiz.csv\")\n",
    "# qR.head()"
   ]
  },
  {
   "cell_type": "code",
   "execution_count": 8,
   "id": "3df80cda",
   "metadata": {},
   "outputs": [
    {
     "name": "stderr",
     "output_type": "stream",
     "text": [
      "c:\\users\\thorm\\miniconda3\\lib\\site-packages\\ipykernel_launcher.py:3: FutureWarning: Passing a negative integer is deprecated in version 1.0 and will not be supported in future version. Instead, use None to not limit the column width.\n",
      "  This is separate from the ipykernel package so we can avoid doing imports until\n"
     ]
    }
   ],
   "source": [
    "iCare = qR[['question_number','question_title','answers','question_content']]\n",
    "# iCare.iloc[8]['question_content']\n",
    "pd.set_option(\"display.max_colwidth\", -1)\n",
    "# iCare[:20]"
   ]
  },
  {
   "cell_type": "code",
   "execution_count": 9,
   "id": "71e9246c",
   "metadata": {},
   "outputs": [],
   "source": [
    "def cleaning_up(df):\n",
    "    new_df = df\n",
    "    for i in new_df.index:\n",
    "#       changing the question content\n",
    "        answers = new_df.iloc[i]['answers'].replace(\"0\",\"\").translate(str.maketrans(\"\", \"\", string.punctuation))\n",
    "        q_content = new_df.iloc[i]['question_content'].replace(\"0\",\"\").translate(str.maketrans(\"\", \"\", string.punctuation))\n",
    "        new_df.at[i, 'answers'] = answers\n",
    "        new_df.at[i, 'question_content'] = q_content\n",
    "#       changing the answer content\n",
    "        if \"radioinput\" in new_df.at[i, 'question_content'] or \"selectallinput\" in new_df.at[i, 'question_content']:\n",
    "            new_df.at[i, 'question_content'] = \"multi_choice\"\n",
    "            continue;\n",
    "        elif \"text\" in new_df.at[i, 'question_content']:\n",
    "            new_df.at[i, 'question_content'] = \"text\"\n",
    "            continue;\n",
    "    return new_df\n",
    "\n",
    "clean = cleaning_up(iCare)\n",
    "q_num_cont = clean[[\"question_number\", \"question_content\"]]\n",
    "# clean[:15]\n",
    "# %timeit cleaning_up_faster(iCare)\n"
   ]
  },
  {
   "cell_type": "code",
   "execution_count": 10,
   "id": "1c04faa7",
   "metadata": {},
   "outputs": [],
   "source": [
    "def short_answer (df, q_num):\n",
    "    obj = SentimentIntensityAnalyzer()\n",
    "    rows = []\n",
    "    count = 0\n",
    "    for i in df.index:\n",
    "        if df.iloc[i]['question_number'] == q_num:\n",
    "            count += 1\n",
    "            ans = str(df.iloc[i]['answers'])\n",
    "            num_words = len(ans.split())\n",
    "            sent_score = obj.polarity_scores(ans)\n",
    "            if num_words != 0 and num_words != 1 and num_words != 2:\n",
    "                rows.append([sent_score['neg'], sent_score['neu'], sent_score['pos'], sent_score['compound'], ans])\n",
    "#                 normal_sent_score = sent_score['compound']/num_words\n",
    "#                 rows.append([normal_sent_score, ans])\n",
    "    scores = pd.DataFrame(rows, columns=[\"sentiment_score_neg\",\"sentiment_score_neu\",\"sentiment_score_pos\",\"sentiment_score_comp\", \"response\"])\n",
    "#     scores = pd.DataFrame(rows, columns=[\"sentiment_score_comp\", \"response\"])\n",
    "    scores.sort_values(by=['sentiment_score_comp'], inplace=True, ascending=False)\n",
    "    scores = scores.drop([\"sentiment_score_neg\",\"sentiment_score_neu\",\"sentiment_score_pos\"], axis = 1)\n",
    "    scores = scores.reset_index()\n",
    "    index = scores.index\n",
    "    numrows = len(index)\n",
    "#     print(numrows)\n",
    "#     The commented secionts above change to a normalized compound score\n",
    "#     Begin buttons\n",
    "    global ind_1\n",
    "    global ind_2\n",
    "    ind_1 = -5\n",
    "    ind_2 = 0\n",
    "    out = Output()\n",
    "    btn = widgets.Button(description='>')\n",
    "    btn2 = widgets.Button(description='<')\n",
    "    display(widgets.HBox((btn2, btn)))\n",
    "    display(out)\n",
    "    def init():\n",
    "        display(scores)\n",
    "        clear_output(wait=True)\n",
    "    def add(obj):\n",
    "        global ind_1\n",
    "        global ind_2\n",
    "        if ind_2 > (int(len(scores.index))-5):\n",
    "            return\n",
    "        ind_1 +=5\n",
    "        ind_2+=5\n",
    "        \n",
    "        with out:\n",
    "            display(scores[ind_1:ind_2])\n",
    "            clear_output(wait=True)\n",
    "    def subtract(obj):\n",
    "        global ind_1\n",
    "        global ind_2\n",
    "        if ind_1 < 4:\n",
    "            return\n",
    "        ind_1 -=5\n",
    "        ind_2 -=5\n",
    "        with out:\n",
    "            display(scores[ind_1:ind_2])\n",
    "            clear_output(wait=True)\n",
    "\n",
    "    # display(IntSlider())\n",
    "  \n",
    "    btn.object_position = 'right'\n",
    "    btn2.object_position = 'left'\n",
    "    btn.on_click(add)\n",
    "    btn2.on_click(subtract)\n",
    "\n",
    "# short_answer(clean, 5.4)"
   ]
  },
  {
   "cell_type": "code",
   "execution_count": 11,
   "id": "dcf18770",
   "metadata": {},
   "outputs": [],
   "source": [
    "def get_question_nums(df):\n",
    "    count = 0\n",
    "    arr = []\n",
    "    first_num = df.iloc[0]['question_number']\n",
    "    for index,row in df.iterrows():\n",
    "        arr.append((f\"{df.iloc[index]['question_number']}) {df.iloc[index]['question_title']}\",df.iloc[index]['question_number']))\n",
    "        count += 1\n",
    "        index = index+1\n",
    "        if(df.iloc[index]['question_number'] == first_num):\n",
    "            return arr\n",
    "            break                 \n",
    "            \n",
    "# get_question_nums(clean)"
   ]
  },
  {
   "cell_type": "code",
   "execution_count": 12,
   "id": "a6f04dcc",
   "metadata": {},
   "outputs": [],
   "source": [
    "def multi_choice_input(df, q_num):\n",
    "    answers = {}\n",
    "    count = 0\n",
    "    for i in df.index:\n",
    "        if df.iloc[i]['question_number'] == q_num:\n",
    "            count+=1\n",
    "            if df.iloc[i]['answers'] in answers:\n",
    "                answers[df.iloc[i]['answers']] += 1\n",
    "            elif df.iloc[i]['answers'] not in answers:\n",
    "                answers[df.iloc[i]['answers']] = 1\n",
    "\n",
    "    #visual portion\n",
    "    lists = sorted(answers.items())\n",
    "    x, y = zip(*lists)\n",
    "    plt.bar(x, y)\n",
    "    plt.xticks(rotation = 35, ha = 'right')\n",
    "    plt.show()\n",
    "    #numbers portion\n",
    "    for ans in answers.keys():\n",
    "        percent = np.round((answers[ans]/count)*100,2)\n",
    "        print(f'{percent}% of people chose \\\"{ans}\\\"')"
   ]
  },
  {
   "cell_type": "code",
   "execution_count": 13,
   "id": "851d0525",
   "metadata": {},
   "outputs": [],
   "source": [
    "def get_anything (df, q_num):\n",
    "    pd.set_option('display.max_colwidth', None)\n",
    "    q_name = df.loc[df['question_number'] == q_num, 'question_title'].iloc[0]\n",
    "    print(f'{q_num}. {q_name}')\n",
    "    for i in df.index:\n",
    "        if df.iloc[i][\"question_number\"] == q_num:\n",
    "            if df.iloc[i][\"question_content\"] == \"multichoice\":\n",
    "                multi_choice_input(df, q_num)\n",
    "                break\n",
    "            elif df.iloc[i][\"question_content\"] == \"text\":\n",
    "                return short_answer(df, q_num)\n",
    "                break\n",
    "# ABC ex 5.1\n",
    "# text ex 1.0\n",
    "# select ex 2.1\n",
    "# radio ex 4.1\n",
    "# clean is the cleaned dataframe\n",
    "# get_anything(clean, 5.4)"
   ]
  },
  {
   "cell_type": "code",
   "execution_count": 14,
   "id": "eb10f1aa",
   "metadata": {
    "scrolled": true
   },
   "outputs": [
    {
     "data": {
      "application/vnd.jupyter.widget-view+json": {
       "model_id": "6c8d39ff59834dbaa783d5ac881f7be1",
       "version_major": 2,
       "version_minor": 0
      },
      "text/plain": [
       "interactive(children=(Dropdown(description='q_num', options=((\"1.0) What is the one thing you learned from tod…"
      ]
     },
     "metadata": {},
     "output_type": "display_data"
    },
    {
     "data": {
      "text/plain": [
       "<function __main__.get_anything(df, q_num)>"
      ]
     },
     "execution_count": 14,
     "metadata": {},
     "output_type": "execute_result"
    }
   ],
   "source": [
    "arr = get_question_nums(clean)\n",
    "widgets.interact(get_anything, df=fixed(clean), q_num=arr, layout={'width': 'initial'})"
   ]
  }
 ],
 "metadata": {
  "kernelspec": {
   "display_name": "Python 3",
   "language": "python",
   "name": "python3"
  },
  "language_info": {
   "codemirror_mode": {
    "name": "ipython",
    "version": 3
   },
   "file_extension": ".py",
   "mimetype": "text/x-python",
   "name": "python",
   "nbconvert_exporter": "python",
   "pygments_lexer": "ipython3",
   "version": "3.7.9"
  }
 },
 "nbformat": 4,
 "nbformat_minor": 5
}
