{
 "cells": [
  {
   "cell_type": "code",
   "execution_count": 192,
   "id": "e928289c",
   "metadata": {},
   "outputs": [],
   "source": [
    "import pandas as pd\n",
    "import numpy as np\n",
    "from utility.util import clean_columns\n",
    "\n",
    "from matplotlib import pyplot as plt\n",
    "from utility.util import plot_gender_fraction_over_time\n",
    "\n",
    "import ipywidgets as widgets\n",
    "from ipywidgets import interact, interactive, fixed, interact_manual\n",
    "\n",
    "import os\n",
    "import string\n",
    "import zipfile\n",
    "import shutil\n",
    "\n",
    "from vaderSentiment.vaderSentiment import SentimentIntensityAnalyzer"
   ]
  },
  {
   "cell_type": "code",
   "execution_count": 101,
   "id": "5461c124",
   "metadata": {},
   "outputs": [],
   "source": [
    "qR = pd.read_csv(\"./utility/data/Lab 1 Quiz.csv\")\n",
    "# qR.head()"
   ]
  },
  {
   "cell_type": "code",
   "execution_count": 102,
   "id": "3df80cda",
   "metadata": {},
   "outputs": [
    {
     "data": {
      "text/html": [
       "<div>\n",
       "<style scoped>\n",
       "    .dataframe tbody tr th:only-of-type {\n",
       "        vertical-align: middle;\n",
       "    }\n",
       "\n",
       "    .dataframe tbody tr th {\n",
       "        vertical-align: top;\n",
       "    }\n",
       "\n",
       "    .dataframe thead th {\n",
       "        text-align: right;\n",
       "    }\n",
       "</style>\n",
       "<table border=\"1\" class=\"dataframe\">\n",
       "  <thead>\n",
       "    <tr style=\"text-align: right;\">\n",
       "      <th></th>\n",
       "      <th>question_number</th>\n",
       "      <th>question_title</th>\n",
       "      <th>answers</th>\n",
       "      <th>question_content</th>\n",
       "    </tr>\n",
       "  </thead>\n",
       "  <tbody>\n",
       "    <tr>\n",
       "      <th>0</th>\n",
       "      <td>1.0</td>\n",
       "      <td>What is the one thing you learned from today's...</td>\n",
       "      <td>{\"0\": \"I learned how to clean up a dataset fro...</td>\n",
       "      <td>[{\"type\": \"text\", \"value\": \"Turn **off** scree...</td>\n",
       "    </tr>\n",
       "    <tr>\n",
       "      <th>1</th>\n",
       "      <td>2.1</td>\n",
       "      <td>What are the features of the iris dataset? Mar...</td>\n",
       "      <td>{\"0\": [\"petal length\", \"petal width\", \"sepal w...</td>\n",
       "      <td>[{\"type\": \"select_all_input\", \"choices\": [{\"va...</td>\n",
       "    </tr>\n",
       "    <tr>\n",
       "      <th>2</th>\n",
       "      <td>2.2</td>\n",
       "      <td>How many data points are in your training set?</td>\n",
       "      <td>{\"0\": \"105\"}</td>\n",
       "      <td>[{\"type\": \"text\", \"value\": \"\"}, {\"type\": \"radi...</td>\n",
       "    </tr>\n",
       "    <tr>\n",
       "      <th>3</th>\n",
       "      <td>3.1</td>\n",
       "      <td>Which feature did you use for predictions?</td>\n",
       "      <td>{\"0\": \"We used petal width for the predictions...</td>\n",
       "      <td>[{\"type\": \"text\", \"value\": \"\"}, {\"type\": \"free...</td>\n",
       "    </tr>\n",
       "    <tr>\n",
       "      <th>4</th>\n",
       "      <td>3.2</td>\n",
       "      <td>What was the average prediction accuracy for t...</td>\n",
       "      <td>{\"0\": \"The average prediction accuracy was 88....</td>\n",
       "      <td>[{\"type\": \"text\", \"value\": \"\"}, {\"type\": \"free...</td>\n",
       "    </tr>\n",
       "    <tr>\n",
       "      <th>...</th>\n",
       "      <td>...</td>\n",
       "      <td>...</td>\n",
       "      <td>...</td>\n",
       "      <td>...</td>\n",
       "    </tr>\n",
       "    <tr>\n",
       "      <th>1913</th>\n",
       "      <td>4.4</td>\n",
       "      <td>Briefly justify or explain your choice in 2-3 ...</td>\n",
       "      <td>{\"0\": \"As long as decision making process coul...</td>\n",
       "      <td>[{\"type\": \"text\", \"value\": \"Turn **off** scree...</td>\n",
       "    </tr>\n",
       "    <tr>\n",
       "      <th>1914</th>\n",
       "      <td>5.1</td>\n",
       "      <td>How far did you get in today's lab? Select the...</td>\n",
       "      <td>{\"0\": \"D Drawing Conclusions using Machine Lea...</td>\n",
       "      <td>[{\"type\": \"text\", \"value\": \"Note: We mark D an...</td>\n",
       "    </tr>\n",
       "    <tr>\n",
       "      <th>1915</th>\n",
       "      <td>5.2</td>\n",
       "      <td>Do you have any prior Python experience?</td>\n",
       "      <td>{\"0\": \"No\"}</td>\n",
       "      <td>[{\"type\": \"text\", \"value\": \"Note: I will mark ...</td>\n",
       "    </tr>\n",
       "    <tr>\n",
       "      <th>1916</th>\n",
       "      <td>5.3</td>\n",
       "      <td>Did you like today's lab?</td>\n",
       "      <td>{\"0\": \"Yes\"}</td>\n",
       "      <td>[{\"type\": \"text\", \"value\": \"Note: I will mark ...</td>\n",
       "    </tr>\n",
       "    <tr>\n",
       "      <th>1917</th>\n",
       "      <td>5.4</td>\n",
       "      <td>Do you have any feedback regarding todays lab?</td>\n",
       "      <td>{}</td>\n",
       "      <td>[{\"type\": \"text\", \"value\": \"\"}, {\"type\": \"free...</td>\n",
       "    </tr>\n",
       "  </tbody>\n",
       "</table>\n",
       "<p>1918 rows × 4 columns</p>\n",
       "</div>"
      ],
      "text/plain": [
       "      question_number                                     question_title  \\\n",
       "0                 1.0  What is the one thing you learned from today's...   \n",
       "1                 2.1  What are the features of the iris dataset? Mar...   \n",
       "2                 2.2     How many data points are in your training set?   \n",
       "3                 3.1         Which feature did you use for predictions?   \n",
       "4                 3.2  What was the average prediction accuracy for t...   \n",
       "...               ...                                                ...   \n",
       "1913              4.4  Briefly justify or explain your choice in 2-3 ...   \n",
       "1914              5.1  How far did you get in today's lab? Select the...   \n",
       "1915              5.2           Do you have any prior Python experience?   \n",
       "1916              5.3                          Did you like today's lab?   \n",
       "1917              5.4     Do you have any feedback regarding todays lab?   \n",
       "\n",
       "                                                answers  \\\n",
       "0     {\"0\": \"I learned how to clean up a dataset fro...   \n",
       "1     {\"0\": [\"petal length\", \"petal width\", \"sepal w...   \n",
       "2                                          {\"0\": \"105\"}   \n",
       "3     {\"0\": \"We used petal width for the predictions...   \n",
       "4     {\"0\": \"The average prediction accuracy was 88....   \n",
       "...                                                 ...   \n",
       "1913  {\"0\": \"As long as decision making process coul...   \n",
       "1914  {\"0\": \"D Drawing Conclusions using Machine Lea...   \n",
       "1915                                        {\"0\": \"No\"}   \n",
       "1916                                       {\"0\": \"Yes\"}   \n",
       "1917                                                 {}   \n",
       "\n",
       "                                       question_content  \n",
       "0     [{\"type\": \"text\", \"value\": \"Turn **off** scree...  \n",
       "1     [{\"type\": \"select_all_input\", \"choices\": [{\"va...  \n",
       "2     [{\"type\": \"text\", \"value\": \"\"}, {\"type\": \"radi...  \n",
       "3     [{\"type\": \"text\", \"value\": \"\"}, {\"type\": \"free...  \n",
       "4     [{\"type\": \"text\", \"value\": \"\"}, {\"type\": \"free...  \n",
       "...                                                 ...  \n",
       "1913  [{\"type\": \"text\", \"value\": \"Turn **off** scree...  \n",
       "1914  [{\"type\": \"text\", \"value\": \"Note: We mark D an...  \n",
       "1915  [{\"type\": \"text\", \"value\": \"Note: I will mark ...  \n",
       "1916  [{\"type\": \"text\", \"value\": \"Note: I will mark ...  \n",
       "1917  [{\"type\": \"text\", \"value\": \"\"}, {\"type\": \"free...  \n",
       "\n",
       "[1918 rows x 4 columns]"
      ]
     },
     "execution_count": 102,
     "metadata": {},
     "output_type": "execute_result"
    }
   ],
   "source": [
    "iCare = qR[['question_number','question_title','answers','question_content']]\n",
    "# iCare.iloc[8]['question_content']\n",
    "iCare"
   ]
  },
  {
   "cell_type": "code",
   "execution_count": 70,
   "id": "71e9246c",
   "metadata": {},
   "outputs": [
    {
     "name": "stdout",
     "output_type": "stream",
     "text": [
      "1.1 s ± 132 ms per loop (mean ± std. dev. of 7 runs, 1 loop each)\n",
      "1.06 s ± 216 ms per loop (mean ± std. dev. of 7 runs, 1 loop each)\n"
     ]
    }
   ],
   "source": [
    "def cleaning_up(df):\n",
    "    new_df = df\n",
    "    for i in new_df.index:\n",
    "#       changing the question content\n",
    "        answers = new_df.iloc[i]['answers'].replace(\"0\",\"\").translate(str.maketrans(\"\", \"\", string.punctuation))\n",
    "        q_content = new_df.iloc[i]['question_content'].replace(\"0\",\"\").translate(str.maketrans(\"\", \"\", string.punctuation))\n",
    "        new_df.at[i, 'answers'] = answers\n",
    "        new_df.at[i, 'question_content'] = q_content\n",
    "#       changing the answer content\n",
    "        if \"We mark D and E\" in new_df.at[i, 'question_content']:\n",
    "            new_df.at[i, 'question_content'] = \"abc_input\"\n",
    "            continue;\n",
    "        elif \"text\" in new_df.at[i, 'question_content']:\n",
    "            new_df.at[i, 'question_content'] = \"text\"\n",
    "            continue;\n",
    "        elif \"selectallinput\" in new_df.at[i, 'question_content']:\n",
    "            new_df.at[i, 'question_content'] = \"select_all_input\"\n",
    "            continue;\n",
    "        elif \"radioinput\" in new_df.at[i, 'question_content']:\n",
    "            new_df.at[i, 'question_content'] = \"radio_input\"\n",
    "            continue;\n",
    "    return new_df\n",
    "\n",
    "clean = cleaning_up(iCare)\n",
    "q_num_cont = clean[[\"question_number\", \"question_content\"]]\n",
    "clean[:10]\n",
    "# %timeit cleaning_up_faster(iCare)\n"
   ]
  },
  {
   "cell_type": "code",
   "execution_count": 128,
   "id": "fdc1f7de",
   "metadata": {},
   "outputs": [
    {
     "data": {
      "image/png": "[encoded data removed]",
      "text/plain": [
       "<Figure size 432x288 with 1 Axes>"
      ]
     },
     "metadata": {
      "needs_background": "light"
     },
     "output_type": "display_data"
    },
    {
     "name": "stdout",
     "output_type": "stream",
     "text": [
      "0.0% of people chose A\n",
      "1.46% of people chose B\n",
      "18.98% of people chose C\n",
      "70.8% of people chose D\n",
      "8.76% of people chose E\n"
     ]
    }
   ],
   "source": [
    "def ABC_input (df, q_num):   \n",
    "    answers = {\n",
    "        \"A\" : 0,\n",
    "        \"B\" : 0,\n",
    "        \"C\" : 0,\n",
    "        \"D\" : 0,\n",
    "        \"E\" : 0\n",
    "    }\n",
    "    count = 0\n",
    "    for i in df.index:\n",
    "        if df.iloc[i]['question_number'] == q_num:\n",
    "            count += 1\n",
    "            ans = str(df.iloc[i]['answers'])\n",
    "            goal = ans[1]\n",
    "            if goal == \"A\":\n",
    "                answers[\"A\"] += 1\n",
    "            elif goal == \"B\":\n",
    "                answers[\"B\"] += 1\n",
    "            elif goal == \"C\":\n",
    "                answers[\"C\"] += 1\n",
    "            elif goal == \"D\":\n",
    "                answers[\"D\"] += 1\n",
    "            elif goal == \"E\":\n",
    "                answers[\"E\"] += 1\n",
    "    #Visual\n",
    "    lists = sorted(answers.items())\n",
    "    x, y = zip(*lists)\n",
    "    plt.bar(x, y)\n",
    "    plt.show()\n",
    "    #Numbers\n",
    "    for a in ['A','B','C','D','E']:\n",
    "        percent = np.round((answers[a]/count)*100,2)\n",
    "        print(f'{percent}% of people chose {a}')\n",
    "                \n",
    "# ABC_input(clean, 5.1)       "
   ]
  },
  {
   "cell_type": "code",
   "execution_count": 231,
   "id": "b76536ca",
   "metadata": {},
   "outputs": [
    {
     "data": {
      "image/png": "[encoded data removed]",
      "text/plain": [
       "<Figure size 432x288 with 1 Axes>"
      ]
     },
     "metadata": {
      "needs_background": "light"
     },
     "output_type": "display_data"
    },
    {
     "name": "stdout",
     "output_type": "stream",
     "text": [
      "10.95% of people chose \"I strongly agree\"\n",
      "32.85% of people chose \"I agree\"\n",
      "5.84% of people chose \"I neither agree nor disagree\"\n",
      "5.84% of people chose \"I disagree\"\n",
      "2.19% of people chose \"I strongly disagree\"\n",
      "42.34% of people chose \"it depends on the use case\"\n"
     ]
    }
   ],
   "source": [
    "def radio_input (df, q_num):\n",
    "    answers = {\n",
    "        \"I strongly disagree\" : 0,\n",
    "        \"I disagree\" : 0,\n",
    "        \"I neither agree nor disagree\" : 0,\n",
    "        \"I agree\" : 0,\n",
    "        \"I strongly agree\" : 0,\n",
    "        \"it depends on the use case\" : 0\n",
    "    }\n",
    "    count = 0\n",
    "    for i in df.index:\n",
    "        if df.iloc[i]['question_number'] == q_num:\n",
    "            count += 1\n",
    "            goal = str(df.iloc[i]['answers'])\n",
    "            if goal == \" I strongly disagree\":\n",
    "                answers[\"I strongly disagree\"] += 1\n",
    "            elif goal == \" I disagree\":\n",
    "                answers[\"I disagree\"] += 1\n",
    "            elif goal == \" I neither agree nor disagree\":\n",
    "                answers[\"I neither agree nor disagree\"] += 1\n",
    "            elif goal == \" I agree\":\n",
    "                answers[\"I agree\"] += 1\n",
    "            elif goal == \" I strongly agree\":\n",
    "                answers[\"I strongly agree\"] += 1\n",
    "            elif goal == \" it depends on the use case\":\n",
    "                answers[\"it depends on the use case\"] += 1\n",
    "    #visual portion\n",
    "    lists = sorted(answers.items())\n",
    "    x, y = zip(*lists)\n",
    "    plt.bar(x, y)\n",
    "    plt.xticks(rotation = 35, ha = 'right')\n",
    "    plt.show()\n",
    "    #numbers portion\n",
    "    for ans in [\"I strongly agree\", \"I agree\", \"I neither agree nor disagree\", \"I disagree\", \"I strongly disagree\", \"it depends on the use case\"]:\n",
    "        percent = np.round((answers[ans]/count)*100,2)\n",
    "        print(f'{percent}% of people chose \\\"{ans}\\\"')\n",
    "radio_input(clean, 4.1)"
   ]
  },
  {
   "cell_type": "code",
   "execution_count": 226,
   "id": "1c04faa7",
   "metadata": {},
   "outputs": [],
   "source": [
    "def short_answer (df, q_num):\n",
    "    obj = SentimentIntensityAnalyzer()\n",
    "    rows = []\n",
    "    count = 0\n",
    "    for i in df.index:\n",
    "        if df.iloc[i]['question_number'] == q_num:\n",
    "            count += 1\n",
    "            ans = str(df.iloc[i]['answers'])\n",
    "            sent_score = obj.polarity_scores(ans)\n",
    "            rows.append([sent_score['neg'], sent_score['neu'], sent_score['pos'], sent_score['compound'], ans])\n",
    "#     print(rows)\n",
    "    scores = pd.DataFrame(rows, columns=[\"sentiment_score_neg\",\"sentiment_score_neu\",\"sentiment_score_pos\",\"sentiment_score_comp\", \"response\"])\n",
    "    scores.sort_values(by=['sentiment_score_comp'], inplace=True, ascending=False)\n",
    "    scores.head()\n",
    "    return scores[['response']].head()\n",
    "    \n",
    "# short_answer(clean, 5.4)"
   ]
  },
  {
   "cell_type": "code",
   "execution_count": 232,
   "id": "dcf18770",
   "metadata": {},
   "outputs": [],
   "source": [
    "def get_question_nums(df):\n",
    "    count = 0\n",
    "    arr = []\n",
    "    first_num = df.iloc[0]['question_number']\n",
    "    for index,row in df.iterrows():\n",
    "        arr.append((f\"{df.iloc[index]['question_number']}) {df.iloc[index]['question_title']}\",df.iloc[index]['question_number']))\n",
    "        count += 1\n",
    "        index = index+1\n",
    "        if(df.iloc[index]['question_number'] == first_num):\n",
    "            return arr\n",
    "            break                 \n",
    "            \n",
    "# get_question_nums(clean)"
   ]
  },
  {
   "cell_type": "code",
   "execution_count": 228,
   "id": "851d0525",
   "metadata": {},
   "outputs": [],
   "source": [
    "def get_anything (df, q_num):\n",
    "    pd.set_option('display.max_colwidth', None)\n",
    "    q_name = df.loc[df['question_number'] == q_num, 'question_title'].iloc[0]\n",
    "    print(f'{q_num}. {q_name}')\n",
    "    for i in df.index:\n",
    "        if df.iloc[i][\"question_number\"] == q_num:\n",
    "            if df.iloc[i][\"question_content\"] == \"radio_input\":\n",
    "                radio_input(df, q_num)\n",
    "                break\n",
    "            elif df.iloc[i][\"question_content\"] == \"text\":\n",
    "                return short_answer(df, q_num)\n",
    "                break\n",
    "            elif df.iloc[i][\"question_content\"] == \"abc_input\":\n",
    "                ABC_input(df, q_num)\n",
    "                break\n",
    "            elif df.iloc[i][\"question_content\"] == \"select_all_input\":\n",
    "                print(\"idk how to do this yet\")\n",
    "                break\n",
    "# ABC ex 5.1\n",
    "# text ex 1.0\n",
    "# select ex 2.1\n",
    "# radio ex 4.1\n",
    "# clean is the cleaned dataframe\n",
    "# get_anything(clean, 5.4)"
   ]
  },
  {
   "cell_type": "raw",
   "id": "5672830f",
   "metadata": {},
   "source": [
    "Adding question content with the number as a title\n",
    "\n",
    "Sentiment analysis on text questions\n",
    "VADER package for weighted sentiment analysis\n",
    "    Ranking text questions based on \"sentiment score\"\n",
    "Showing \"head\" but being able to scroll through the next amount\n",
    "\n",
    "switch radio input and text\n",
    "\n",
    "Low priority: Visualizing people's answers: for the select all that questions seeing who got how many right\n",
    "\n",
    "What did you learn?\n",
    "Did you like the lab?\n",
    "What\n",
    "\n",
    "Email gradescope to ask for lab 2-4\n",
    "\n",
    "\n",
    "Research: \n",
    "    Visualizing textual feedback\n",
    "    phrases\n",
    "    \n",
    "    \n",
    "IMPROVE EFFICIENCY"
   ]
  },
  {
   "cell_type": "code",
   "execution_count": 230,
   "id": "95800f3f",
   "metadata": {},
   "outputs": [
    {
     "data": {
      "application/vnd.jupyter.widget-view+json": {
       "model_id": "91f08c9718fd42029c902730b55f75b4",
       "version_major": 2,
       "version_minor": 0
      },
      "text/plain": [
       "interactive(children=(Dropdown(description='q_num', options=((\"1.0) What is the one thing you learned from tod…"
      ]
     },
     "metadata": {},
     "output_type": "display_data"
    },
    {
     "data": {
      "text/plain": [
       "<function __main__.get_anything(df, q_num)>"
      ]
     },
     "execution_count": 230,
     "metadata": {},
     "output_type": "execute_result"
    }
   ],
   "source": [
    "arr = get_question_nums(clean)\n",
    "widgets.interact(get_anything, df=fixed(clean), q_num=arr, layout={'width': 'initial'})"
   ]
  },
  {
   "cell_type": "code",
   "execution_count": null,
   "id": "bd8d8203",
   "metadata": {},
   "outputs": [],
   "source": []
  },
  {
   "cell_type": "code",
   "execution_count": null,
   "id": "316676c9",
   "metadata": {},
   "outputs": [],
   "source": []
  }
 ],
 "metadata": {
  "kernelspec": {
   "display_name": "Python 3",
   "language": "python",
   "name": "python3"
  },
  "language_info": {
   "codemirror_mode": {
    "name": "ipython",
    "version": 3
   },
   "file_extension": ".py",
   "mimetype": "text/x-python",
   "name": "python",
   "nbconvert_exporter": "python",
   "pygments_lexer": "ipython3",
   "version": "3.7.9"
  }
 },
 "nbformat": 4,
 "nbformat_minor": 5
}
